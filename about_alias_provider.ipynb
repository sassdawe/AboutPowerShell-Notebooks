{
    "metadata": {
        "kernelspec": {
            "name": "powershell",
            "display_name": "PowerShell"
        },
        "language_info": {
            "name": "powershell",
            "codemirror_mode": "shell",
            "mimetype": "text/x-sh",
            "file_extension": ".ps1"
        }
    },
    "nbformat_minor": 2,
    "nbformat": 4,
    "cells": [
        {
            "cell_type": "markdown",
            "source": [
                "# Alias provider\r\n",
                "\r\n",
                "## Provider name\r\n",
                "Alias\r\n",
                "\r\n",
                "## Drives\r\n",
                "\r\n",
                "`Alias:`\r\n",
                "\r\n",
                "## Capabilities\r\n",
                "\r\n",
                "**ShouldProcess**\r\n",
                "\r\n",
                "## Short description\r\n",
                "\r\n",
                "Provides access to the PowerShell aliases and the values that they represent.\r\n",
                "\r\n",
                "## Detailed description\r\n",
                "\r\n",
                "The PowerShell **Alias** provider lets you get, add, change, clear, and delete\r\n",
                "aliases in PowerShell.\r\n",
                "\r\n",
                "An alias is an alternate name for a cmdlet, function, executable file,\r\n",
                "including scripts. PowerShell includes a set of built-in aliases. You can add\r\n",
                "your own aliases to the current session and to your PowerShell profile.\r\n",
                "\r\n",
                "The **Alias** drive is a flat namespace that contains only the alias objects.\r\n",
                "The aliases have no child items.\r\n",
                "\r\n",
                "The **Alias** provider supports the following cmdlets, which are covered\r\n",
                "in this article.\r\n",
                "\r\n",
                "- [Get-Location]()\r\n",
                "- [Set-Location]()\r\n",
                "- [Get-Item]()\r\n",
                "- [New-Item]()\r\n",
                "- [Remove-Item]()\r\n",
                "- [Clear-Item]()\r\n",
                "\r\n",
                "PowerShell includes a set of cmdlets that are designed to view and to change\r\n",
                "aliases. When you use **Alias** cmdlets, you do not need to specify the\r\n",
                "`Alias:` drive in the name. This article does not cover working with **Alias**\r\n",
                "cmdlets.\r\n",
                "\r\n",
                "- [Export-Alias]()\r\n",
                "- [Get-Alias]()\r\n",
                "- [Import-Alias]()\r\n",
                "- [New-Alias]()\r\n",
                "- [Set-Alias]()\r\n",
                "\r\n",
                "## Types exposed by this provider\r\n",
                "\r\n",
                "Each alias is an instance of the\r\n",
                "[System.Management.Automation.AliasInfo](https://docs.microsoft.com/en-us/dotnet/api/system.management.automation.aliasinfo) class.\r\n",
                "\r\n",
                "## Navigating the Alias drive\r\n",
                "\r\n",
                "The **Alias** provider exposes its data store in the `Alias:` drive. To work\r\n",
                "with aliases, you can change your location to the `Alias:` drive by using the\r\n",
                "following command:\r\n",
                "\r\n",
                ""
            ],
            "metadata": {
                "azdata_cell_guid": "e6a60096-2e87-4ec4-b36d-d4a198d66240"
            }
        },
        {
            "cell_type": "code",
            "source": [
                "Set-Location C:\r\n",
                "(Get-Location).Path\r\n",
                "Set-Location Alias:\r\n",
                "(Get-Location).Path"
            ],
            "metadata": {
                "azdata_cell_guid": "609655eb-7002-4970-befb-ddee519a8597",
                "tags": []
            },
            "outputs": [],
            "execution_count": null
        },
        {
            "cell_type": "markdown",
            "source": [
                "To return to a file system drive, type the drive name. For example, type:\r\n",
                "\r\n",
                ""
            ],
            "metadata": {
                "azdata_cell_guid": "4980daf8-6917-41a9-a62b-5da8669a4ebf"
            }
        },
        {
            "cell_type": "code",
            "source": [
                "(Get-Location).Path\r\n",
                "Set-Location C:\r\n",
                "(Get-Location).Path"
            ],
            "metadata": {
                "azdata_cell_guid": "6703df0f-b889-4b62-a6b3-254a3b3c5f87",
                "tags": []
            },
            "outputs": [],
            "execution_count": null
        },
        {
            "cell_type": "markdown",
            "source": [
                "You can also work with the Alias provider from any other PowerShell drive. To\r\n",
                "reference an alias from another location, use the `Alias:` drive name in the\r\n",
                "path.\r\n",
                "\r\n",
                "> [!NOTE]\r\n",
                "> PowerShell uses aliases to allow you a familiar way to work with provider\r\n",
                "> paths. Commands such as `dir` and `ls` are now aliases for\r\n",
                "> [Get-ChildItem](),\r\n",
                "> `cd` is an alias for [Set-Location](). and `pwd` is\r\n",
                "> an alias for [Get-Location]().\r\n",
                "\r\n",
                "### Displaying the Contents of the Alias: drive\r\n",
                "\r\n",
                "This command gets the list of all the aliases when the current location is the\r\n",
                "`Alias:` drive. It uses a wildcard character `*` to indicate all the contents\r\n",
                "of the current location.\r\n",
                "\r\n",
                "```powershell\r\n",
                "PS Alias:\\> Get-Item -Path *\r\n",
                "```\r\n",
                "\r\n",
                "In the `Alias:` drive, a dot `.`, which represents the current location, and a\r\n",
                "wildcard character `*`, which represents all items in the current location,\r\n",
                "have the same effect. For example, `Get-Item -Path .` or `Get-Item \\*` produce\r\n",
                "the same result.\r\n",
                "\r\n",
                "The Alias provider has no containers, so the above command has the\r\n",
                "same effect when used with `Get-ChildItem`."
            ],
            "metadata": {
                "azdata_cell_guid": "b5eaf356-e44e-48a9-9a41-09798c63dd54"
            }
        },
        {
            "cell_type": "code",
            "source": [
                "Get-ChildItem -Path Alias:"
            ],
            "metadata": {
                "azdata_cell_guid": "5bfcdd8e-ec62-47fe-b471-423a2f61ef5f",
                "tags": []
            },
            "outputs": [],
            "execution_count": null
        },
        {
            "cell_type": "markdown",
            "source": [
                "### Get a selected alias\r\n",
                "\r\n",
                "This command gets the `ls` alias.\r\n",
                "Because it includes the path, you can use it in any PowerShell drive."
            ],
            "metadata": {
                "azdata_cell_guid": "81c8ce46-fd27-4076-b64f-74469f36558e"
            }
        },
        {
            "cell_type": "code",
            "source": [
                "Get-Item -Path Alias:ls"
            ],
            "metadata": {
                "azdata_cell_guid": "d3206764-bd3c-4402-8821-d6e741c7c368",
                "tags": []
            },
            "outputs": [],
            "execution_count": null
        },
        {
            "cell_type": "markdown",
            "source": [
                "If you are in the `Alias:` drive, you can omit the drive name from the path.\r\n",
                "\r\n",
                "You can also retrieve the definition for an alias by prefixing the provider\r\n",
                "path with the dollar sign (`$`)."
            ],
            "metadata": {
                "azdata_cell_guid": "32736faa-1e33-4f1c-a7f1-6adefc49113b"
            }
        },
        {
            "cell_type": "code",
            "source": [
                "$Alias:ls"
            ],
            "metadata": {
                "azdata_cell_guid": "8df12d40-fe41-449c-85bc-c73b5efc844e",
                "tags": []
            },
            "outputs": [],
            "execution_count": null
        },
        {
            "cell_type": "markdown",
            "source": [
                "### Get all aliases for a specific cmdlet\r\n",
                "\r\n",
                "This command gets a list of the aliases that are associated with the\r\n",
                "`Get-ChildItem` cmdlet. It uses the **Definition** property, which stores\r\n",
                "the cmdlet name."
            ],
            "metadata": {
                "azdata_cell_guid": "21e10da8-406d-4184-8af8-2bdc6883e764"
            }
        },
        {
            "cell_type": "code",
            "source": [
                "Get-Item -Path Alias:* | Where-Object {$_.Definition -eq \"Get-ChildItem\"}"
            ],
            "metadata": {
                "azdata_cell_guid": "31946bf9-e9cf-4cf2-bed0-7d22314f7cea",
                "tags": []
            },
            "outputs": [],
            "execution_count": null
        },
        {
            "cell_type": "markdown",
            "source": [
                "## Creating aliases\r\n",
                "\r\n",
                "### Create an alias from the Alias: drive\r\n",
                "\r\n",
                "This command creates the `serv` alias for the `Get-Service` cmdlet. Because the\r\n",
                "current location is in the `Alias:` drive, the `-Path` parameter is not\r\n",
                "needed.\r\n",
                "\r\n",
                "This command also uses the `-Options` dynamic parameter to set the **AllScope**\r\n",
                "option on the alias. The `-Options` parameter is available in\r\n",
                "the `New-Item` cmdlet only when you are in the `Alias:` drive. The dot (`.`)\r\n",
                "indicates the current directory, which is the alias drive.\r\n",
                "\r\n",
                "```\r\n",
                "PS Alias:\\> New-Item -Path . -Name serv -Value Get-Service -Options \"AllScope\"\r\n",
                "```\r\n",
                "\r\n",
                "### Create an alias with an absolute path\r\n",
                "\r\n",
                "You can create an alias for any item that invokes a command.\r\n",
                "This command creates the `np` alias for `Notepad.exe`.\r\n",
                ""
            ],
            "metadata": {
                "azdata_cell_guid": "aeaede80-7b0d-4933-86f0-647392baad4a"
            }
        },
        {
            "cell_type": "code",
            "source": [
                "New-Item -Path Alias:np -Value c:\\windows\\notepad.exe"
            ],
            "metadata": {
                "azdata_cell_guid": "5edd0dc6-5f19-4b42-ae20-cb0f4b6bafe0",
                "tags": []
            },
            "outputs": [],
            "execution_count": null
        },
        {
            "cell_type": "markdown",
            "source": [
                "### Create an alias to a new function\r\n",
                "\r\n",
                "You can create an alias for any function. You can use this feature to create an\r\n",
                "alias that includes both a cmdlet and its parameters.\r\n",
                "\r\n",
                "The first command creates the `CD32` function, which changes the current\r\n",
                "directory to the `System32` directory. The second command creates the `go`\r\n",
                "alias for the `CD32` function.\r\n",
                "\r\n",
                "When the command is complete, you can use either `CD32` or `go` to invoke the\r\n",
                "function.\r\n",
                "\r\n",
                "```powershell\r\n",
                "function CD32 {Set-Location -Path c:\\windows\\system32}\r\n",
                "Set-Item -Path Alias:go -Value CD32\r\n",
                "```"
            ],
            "metadata": {
                "azdata_cell_guid": "23d55662-7bf6-47c4-87ef-f76364beeb6d"
            }
        },
        {
            "cell_type": "markdown",
            "source": [
                "### Change an aliases referenced command\r\n",
                "\r\n",
                "This command uses the `Set-Item` cmdlet to change the `gp` alias so that it\r\n",
                "represents the `Get-Process` cmdlet instead of the `Get-ItemProperty` cmdlet.\r\n",
                "The `-Force` parameter is required because the value of the **Options**\r\n",
                "property of the `gp` alias is set to `ReadOnly`. Because the command is\r\n",
                "submitted from within the `Alias:` drive, the drive is not specified in the\r\n",
                "path.\r\n",
                "\r\n",
                "```powershell\r\n",
                "Set-Item -Path gp -Value Get-Process -Force\r\n",
                "```\r\n",
                "\r\n",
                "The change affects the four properties that define the association between the\r\n",
                "alias and the command. To view the effect of the change, type the following\r\n",
                "command:\r\n",
                "\r\n",
                "```powershell\r\n",
                "Get-Item -Path gp | Format-List -Property *\r\n",
                "```"
            ],
            "metadata": {
                "azdata_cell_guid": "ffe7b5cf-f7f6-441b-aa07-a9d65878f439"
            }
        },
        {
            "cell_type": "code",
            "source": [
                "Set-Item -Path gp -Value Get-Process -Force\r\n",
                "Get-Item -Path gp | Format-List -Property *"
            ],
            "metadata": {
                "azdata_cell_guid": "4e0de128-0e85-47b0-a0e1-3c522893e7f2",
                "tags": []
            },
            "outputs": [],
            "execution_count": null
        },
        {
            "cell_type": "markdown",
            "source": [
                "### Rename an alias\r\n",
                "\r\n",
                "This command uses the `Rename-Item` cmdlet to change the `popd` alias to `pop`.\r\n",
                "\r\n",
                "```powershell\r\n",
                "Rename-Item -Path Alias:popd -NewName pop\r\n",
                "```"
            ],
            "metadata": {
                "azdata_cell_guid": "f4c501b2-53f2-4d70-b88c-6df462299abf"
            }
        },
        {
            "cell_type": "markdown",
            "source": [
                "### Rename an alias\r\n",
                "\r\n",
                "This command uses the `Rename-Item` cmdlet to change the `popd` alias to `pop`.\r\n",
                "\r\n",
                "```powershell\r\n",
                "Rename-Item -Path Alias:popd -NewName pop\r\n",
                "```\r\n",
                "\r\n",
                "## Copying an alias\r\n",
                "\r\n",
                "This command copies the `pushd` alias so that a new `push` alias is created for\r\n",
                "the `Push-Location` cmdlet.\r\n",
                "\r\n",
                "When the new alias is created, its **Description** property has a null value.\r\n",
                "And, its **Option** property has a value of `None`. If the command is issued\r\n",
                "from within the `Alias:` drive, you can omit the drive name from the value of\r\n",
                "the `-Path` parameter.\r\n",
                "\r\n",
                "```powershell\r\n",
                "Copy-Item -Path Alias:pushd -Destination Alias:push\r\n",
                "```\r\n",
                "\r\n",
                "## Deleting an alias\r\n",
                "\r\n",
                "This command deletes the `serv` alias from the current session.\r\n",
                "You can use this command in any PowerShell drive.\r\n",
                "\r\n",
                "```powershell\r\n",
                "Remove-Item -Path Alias:serv\r\n",
                "```\r\n",
                "\r\n",
                "This command deletes aliases that begin with \"s\".\r\n",
                "It does not delete read-only aliases.\r\n",
                "\r\n",
                "```powershell\r\n",
                "Clear-Item -Path Alias:s*\r\n",
                "```\r\n",
                "\r\n",
                "### Delete read-only aliases\r\n",
                "\r\n",
                "This command deletes all aliases from the current session, except those with a\r\n",
                "value of `Constant` for their **Options** property. The `-Force`\r\n",
                "parameter allows the command to delete aliases whose **Options** property has a\r\n",
                "value of `ReadOnly`.\r\n",
                "\r\n",
                "```powershell\r\n",
                "Remove-Item Alias:* -Force\r\n",
                "```"
            ],
            "metadata": {
                "azdata_cell_guid": "ff939ef9-ae15-4687-90cf-02c041ffdd4f"
            }
        },
        {
            "cell_type": "markdown",
            "source": [
                "## Dynamic parameters\r\n",
                "\r\n",
                "Dynamic parameters are cmdlet parameters that are added by a PowerShell\r\n",
                "provider and are available only when the cmdlet is being used in the\r\n",
                "provider-enabled drive.\r\n",
                "\r\n",
                "### Options [System.Management.Automation.ScopedItemOptions]\r\n",
                "\r\n",
                "Determines the value of the **Options** property of an alias.\r\n",
                "\r\n",
                "- **None**: No options. This value is the default.\r\n",
                "- **Constant**:The alias cannot be deleted and its properties cannot be changed.\r\n",
                "  **Constant** is available only when you create an alias. You cannot change the\r\n",
                "  option of an existing alias to **Constant**.\r\n",
                "- **Private**:The alias is visible only in the current scope, not in the child\r\n",
                "   scopes.\r\n",
                "- **ReadOnly**:The properties of the alias cannot be changed except by using the\r\n",
                "  `-Force` parameter. You can use `Remove-Item` to delete the alias.\r\n",
                "- **AllScope**:The alias is copied to any new scopes that are created.\r\n",
                "\r\n",
                "#### Cmdlets supported\r\n",
                "\r\n",
                "- [New-Item](../../Microsoft.PowerShell.Management/New-Item.md)\r\n",
                "- [Set-Item](../../Microsoft.PowerShell.Management/Set-Item.md)\r\n",
                "\r\n",
                "## Using the pipeline\r\n",
                "\r\n",
                "Provider cmdlets accept pipeline input. You can use the pipeline to simplify\r\n",
                "task by sending provider data from one cmdlet to another provider cmdlet.\r\n",
                "To read more about how to use the pipeline with provider cmdlets, see the\r\n",
                "cmdlet references provided throughout this article.\r\n",
                "\r\n",
                "## Getting help\r\n",
                "\r\n",
                "Beginning in Windows PowerShell 3.0, you can get customized help topics for\r\n",
                "provider cmdlets that explain how those cmdlets behave in a file system drive.\r\n",
                "\r\n",
                "To get the help topics that are customized for the file system drive, run a\r\n",
                "[Get-Help](../Get-Help.md) command in a file system drive or use the `-Path`\r\n",
                "parameter of [Get-Help](../Get-Help.md) to specify a file system drive."
            ],
            "metadata": {
                "azdata_cell_guid": "4f2de1f8-0ef5-4a73-91c5-7a78e79076d1"
            }
        },
        {
            "cell_type": "code",
            "source": [
                "Get-Help Get-ChildItem"
            ],
            "metadata": {
                "azdata_cell_guid": "7e1fbc61-3824-4999-9ff2-d63b7dc16cf7",
                "tags": []
            },
            "outputs": [],
            "execution_count": null
        },
        {
            "cell_type": "code",
            "source": [
                "Get-Help Get-ChildItem -Path alias:"
            ],
            "metadata": {
                "azdata_cell_guid": "9685f391-1305-4509-ae0e-02b50a3d35a1",
                "tags": []
            },
            "outputs": [],
            "execution_count": null
        },
        {
            "cell_type": "markdown",
            "source": [
                "## See also\r\n",
                "\r\n",
                "[about_Aliases]()\r\n",
                "\r\n",
                "[about_Providers](\r\n",
                ")"
            ],
            "metadata": {
                "azdata_cell_guid": "e23a9fdb-5bc6-4e02-a5dc-3726d6765492"
            }
        }
    ]
}